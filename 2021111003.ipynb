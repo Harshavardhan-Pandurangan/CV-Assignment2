{
 "cells": [
  {
   "cell_type": "markdown",
   "metadata": {},
   "source": [
    "# Computer Vision - Assignment 2\n",
    "### Harshavardhan P\n",
    "### 2021111003"
   ]
  },
  {
   "cell_type": "code",
   "execution_count": 1,
   "metadata": {},
   "outputs": [
    {
     "name": "stderr",
     "output_type": "stream",
     "text": [
      "/Users/harshavardhan/anaconda3/lib/python3.10/site-packages/tqdm/auto.py:21: TqdmWarning: IProgress not found. Please update jupyter and ipywidgets. See https://ipywidgets.readthedocs.io/en/stable/user_install.html\n",
      "  from .autonotebook import tqdm as notebook_tqdm\n"
     ]
    }
   ],
   "source": [
    "import numpy as np\n",
    "import cv2\n",
    "import matplotlib.pyplot as plt\n",
    "import torch\n",
    "from torchvision import datasets, transforms\n",
    "import tqdm\n",
    "import torch.nn as nn\n",
    "import wandb\n",
    "from scipy.cluster.vq import kmeans, vq\n",
    "from sklearn.model_selection import train_test_split\n",
    "from sklearn.svm import SVC, LinearSVC\n",
    "from sklearn.metrics import accuracy_score"
   ]
  },
  {
   "cell_type": "code",
   "execution_count": 2,
   "metadata": {},
   "outputs": [
    {
     "data": {
      "text/plain": [
       "<torch._C.Generator at 0x7fb34a4dc610>"
      ]
     },
     "execution_count": 2,
     "metadata": {},
     "output_type": "execute_result"
    }
   ],
   "source": [
    "np.random.seed(42)\n",
    "torch.manual_seed(42)\n",
    "torch.random.manual_seed(42)"
   ]
  },
  {
   "cell_type": "markdown",
   "metadata": {},
   "source": [
    "## Q1: SIFT-BoVW-SVM"
   ]
  },
  {
   "cell_type": "markdown",
   "metadata": {},
   "source": [
    "### 1.1"
   ]
  },
  {
   "cell_type": "markdown",
   "metadata": {},
   "source": [
    "#### Dataset"
   ]
  },
  {
   "cell_type": "code",
   "execution_count": 3,
   "metadata": {},
   "outputs": [
    {
     "name": "stdout",
     "output_type": "stream",
     "text": [
      "Number of training examples:  60000\n",
      "Number of testing examples:  10000\n"
     ]
    }
   ],
   "source": [
    "# importing the MNIST dataset\n",
    "trainset = datasets.MNIST('mnist', download=True, train=True, transform=transforms.ToTensor())\n",
    "testset = datasets.MNIST('mnist', download=True, train=False, transform=transforms.ToTensor())\n",
    "\n",
    "print(\"Number of training examples: \", len(trainset))\n",
    "print(\"Number of testing examples: \", len(testset))"
   ]
  },
  {
   "cell_type": "markdown",
   "metadata": {},
   "source": [
    "#### Testing process on 100 samples"
   ]
  },
  {
   "cell_type": "code",
   "execution_count": 4,
   "metadata": {},
   "outputs": [
    {
     "name": "stdout",
     "output_type": "stream",
     "text": [
      "Number of keypoints:  100\n",
      "Number of descriptors:  100\n"
     ]
    }
   ],
   "source": [
    "sift = cv2.SIFT_create()\n",
    "keypoints = []\n",
    "descriptors = []\n",
    "for i in range(100):\n",
    "    img = trainset[i][0].numpy().squeeze() * 255\n",
    "    img = img.astype(np.uint8)\n",
    "    kp, des = sift.detectAndCompute(img, None)\n",
    "    keypoints.append(kp)\n",
    "    descriptors.append(des)\n",
    "\n",
    "print(\"Number of keypoints: \", len(keypoints))\n",
    "print(\"Number of descriptors: \", len(descriptors))"
   ]
  },
  {
   "cell_type": "code",
   "execution_count": 167,
   "metadata": {},
   "outputs": [
    {
     "data": {
      "image/png": "[encoded data removed]",
      "text/plain": [
       "<Figure size 640x480 with 1 Axes>"
      ]
     },
     "metadata": {},
     "output_type": "display_data"
    }
   ],
   "source": [
    "# drawing the keypoints\n",
    "img = trainset[0][0].numpy().squeeze() * 255\n",
    "img = img.astype(np.uint8)\n",
    "img = cv2.drawKeypoints(img, keypoints[0], None, flags=cv2.DRAW_MATCHES_FLAGS_DRAW_RICH_KEYPOINTS)\n",
    "plt.imshow(img)\n",
    "plt.show()"
   ]
  },
  {
   "cell_type": "code",
   "execution_count": 168,
   "metadata": {},
   "outputs": [
    {
     "name": "stdout",
     "output_type": "stream",
     "text": [
      "Descriptors shape:  (757, 128)\n"
     ]
    }
   ],
   "source": [
    "des = []\n",
    "for des_ in descriptors:\n",
    "    if des_ is not None:\n",
    "        for d in des_:\n",
    "            des.append(d)\n",
    "des = np.stack(des, axis=0)\n",
    "print(\"Descriptors shape: \", des.shape)"
   ]
  },
  {
   "cell_type": "code",
   "execution_count": 169,
   "metadata": {},
   "outputs": [],
   "source": [
    "codebook, distortion = kmeans(des, 20, 100)"
   ]
  },
  {
   "cell_type": "code",
   "execution_count": 170,
   "metadata": {},
   "outputs": [],
   "source": [
    "# quantizing the descriptors to get the visual words\n",
    "words = []\n",
    "for d in descriptors:\n",
    "    if d is not None:\n",
    "        code, dist = vq(d, codebook)\n",
    "        words.append(code)"
   ]
  },
  {
   "cell_type": "code",
   "execution_count": 171,
   "metadata": {},
   "outputs": [
    {
     "name": "stdout",
     "output_type": "stream",
     "text": [
      "Frequency vectors shape:  (98, 20)\n"
     ]
    }
   ],
   "source": [
    "# creating the frequency vectors\n",
    "freq_vecs = []\n",
    "for word in words:\n",
    "    freq_vec = np.zeros(20)\n",
    "    for w in word:\n",
    "        freq_vec[w] += 1\n",
    "    freq_vecs.append(freq_vec)\n",
    "\n",
    "freq_vecs = np.stack(freq_vecs, axis=0)\n",
    "print(\"Frequency vectors shape: \", freq_vecs.shape)"
   ]
  },
  {
   "cell_type": "code",
   "execution_count": 172,
   "metadata": {},
   "outputs": [
    {
     "data": {
      "image/png": "[encoded data removed]",
      "text/plain": [
       "<Figure size 640x480 with 1 Axes>"
      ]
     },
     "metadata": {},
     "output_type": "display_data"
    }
   ],
   "source": [
    "plt.bar(range(20), freq_vecs[0])\n",
    "plt.show()"
   ]
  },
  {
   "cell_type": "markdown",
   "metadata": {},
   "source": [
    "#### SIFT for MNIST"
   ]
  },
  {
   "cell_type": "code",
   "execution_count": 173,
   "metadata": {},
   "outputs": [],
   "source": [
    "# SIFT keypoints and descriptors for entire MNIST dataset\n",
    "mnist_keypoints = []\n",
    "mnist_descriptors = []\n",
    "for i in range(len(trainset)):\n",
    "    img = trainset[i][0].numpy().squeeze() * 255\n",
    "    img = img.astype(np.uint8)\n",
    "    kp, des = sift.detectAndCompute(img, None)\n",
    "    mnist_keypoints.append(kp)\n",
    "    mnist_descriptors.append(des if des is not None else np.zeros((1, 128)))"
   ]
  },
  {
   "cell_type": "code",
   "execution_count": 174,
   "metadata": {},
   "outputs": [
    {
     "name": "stdout",
     "output_type": "stream",
     "text": [
      "Final descriptors shape:  (470877, 128)\n"
     ]
    }
   ],
   "source": [
    "# getting all the descriptors in a single array\n",
    "final_des = []\n",
    "for des in mnist_descriptors:\n",
    "    if des is not None:\n",
    "        for d in des:\n",
    "            final_des.append(d)\n",
    "final_des = np.stack(final_des, axis=0)\n",
    "print(\"Final descriptors shape: \", final_des.shape)"
   ]
  },
  {
   "cell_type": "code",
   "execution_count": 175,
   "metadata": {},
   "outputs": [],
   "source": [
    "# getting the codebook for the entire dataset\n",
    "codebook, distortion = kmeans(final_des, 15, 2)"
   ]
  },
  {
   "cell_type": "code",
   "execution_count": 176,
   "metadata": {},
   "outputs": [],
   "source": [
    "# getting the visual words for the entire dataset\n",
    "mnist_words = []\n",
    "for d in mnist_descriptors:\n",
    "    if d is not None:\n",
    "        code, dist = vq(d, codebook)\n",
    "        mnist_words.append(code)"
   ]
  },
  {
   "cell_type": "code",
   "execution_count": 177,
   "metadata": {},
   "outputs": [
    {
     "name": "stdout",
     "output_type": "stream",
     "text": [
      "Frequency vectors shape:  (60000, 15)\n"
     ]
    }
   ],
   "source": [
    "# getting the frequency vectors for the entire dataset\n",
    "freq_vecs = []\n",
    "for word in mnist_words:\n",
    "    freq_vec = np.zeros(15)\n",
    "    for w in word:\n",
    "        freq_vec[w] += 1\n",
    "    freq_vecs.append(freq_vec)\n",
    "\n",
    "freq_vecs = np.stack(freq_vecs, axis=0)\n",
    "print(\"Frequency vectors shape: \", freq_vecs.shape)"
   ]
  },
  {
   "cell_type": "code",
   "execution_count": 178,
   "metadata": {},
   "outputs": [
    {
     "data": {
      "image/png": "[encoded data removed]",
      "text/plain": [
       "<Figure size 640x480 with 1 Axes>"
      ]
     },
     "metadata": {},
     "output_type": "display_data"
    }
   ],
   "source": [
    "# plotting the frequency vectors\n",
    "plt.bar(range(15), freq_vecs[0])\n",
    "plt.show()"
   ]
  },
  {
   "cell_type": "code",
   "execution_count": 183,
   "metadata": {},
   "outputs": [
    {
     "name": "stdout",
     "output_type": "stream",
     "text": [
      "Accuracy: 0.462\n"
     ]
    },
    {
     "name": "stderr",
     "output_type": "stream",
     "text": [
      "/Users/harshavardhan/anaconda3/lib/python3.10/site-packages/sklearn/svm/_classes.py:32: FutureWarning: The default value of `dual` will change from `True` to `'auto'` in 1.5. Set the value of `dual` explicitly to suppress the warning.\n",
      "  warnings.warn(\n"
     ]
    },
    {
     "name": "stdout",
     "output_type": "stream",
     "text": [
      "Accuracy: 0.43266666666666664\n"
     ]
    },
    {
     "name": "stderr",
     "output_type": "stream",
     "text": [
      "/Users/harshavardhan/anaconda3/lib/python3.10/site-packages/sklearn/svm/_base.py:1242: ConvergenceWarning: Liblinear failed to converge, increase the number of iterations.\n",
      "  warnings.warn(\n"
     ]
    }
   ],
   "source": [
    "# splitting the dataset into training and testing\n",
    "x_train, X_test, y_train, y_test = train_test_split(freq_vecs, trainset.targets.numpy(), test_size=0.2, random_state=42)\n",
    "\n",
    "# training a SVM model\n",
    "model = SVC(kernel='linear', C=1, gamma='auto', random_state=42)\n",
    "model.fit(x_train, y_train)\n",
    "y_pred = model.predict(X_test)\n",
    "\n",
    "# calculating the accuracy\n",
    "accuracy = accuracy_score(y_test, y_pred)\n",
    "print(\"Accuracy:\", accuracy)\n",
    "\n",
    "# training a linear SVM model\n",
    "model = LinearSVC(C=1, random_state=42)\n",
    "model.fit(x_train, y_train)\n",
    "y_pred = model.predict(X_test)\n",
    "\n",
    "# calculating the accuracy\n",
    "accuracy = accuracy_score(y_test, y_pred)\n",
    "print(\"Accuracy:\", accuracy)"
   ]
  },
  {
   "cell_type": "markdown",
   "metadata": {},
   "source": [
    "### 1.2"
   ]
  },
  {
   "cell_type": "code",
   "execution_count": 184,
   "metadata": {},
   "outputs": [
    {
     "name": "stderr",
     "output_type": "stream",
     "text": [
      "/Users/harshavardhan/anaconda3/lib/python3.10/site-packages/sklearn/svm/_classes.py:32: FutureWarning: The default value of `dual` will change from `True` to `'auto'` in 1.5. Set the value of `dual` explicitly to suppress the warning.\n",
      "  warnings.warn(\n",
      "/Users/harshavardhan/anaconda3/lib/python3.10/site-packages/sklearn/svm/_base.py:1242: ConvergenceWarning: Liblinear failed to converge, increase the number of iterations.\n",
      "  warnings.warn(\n"
     ]
    },
    {
     "name": "stdout",
     "output_type": "stream",
     "text": [
      "Accuracy for k = 1: 0.18425\n"
     ]
    },
    {
     "name": "stderr",
     "output_type": "stream",
     "text": [
      "/Users/harshavardhan/anaconda3/lib/python3.10/site-packages/sklearn/svm/_classes.py:32: FutureWarning: The default value of `dual` will change from `True` to `'auto'` in 1.5. Set the value of `dual` explicitly to suppress the warning.\n",
      "  warnings.warn(\n",
      "/Users/harshavardhan/anaconda3/lib/python3.10/site-packages/sklearn/svm/_base.py:1242: ConvergenceWarning: Liblinear failed to converge, increase the number of iterations.\n",
      "  warnings.warn(\n"
     ]
    },
    {
     "name": "stdout",
     "output_type": "stream",
     "text": [
      "Accuracy for k = 2: 0.19658333333333333\n"
     ]
    },
    {
     "name": "stderr",
     "output_type": "stream",
     "text": [
      "/Users/harshavardhan/anaconda3/lib/python3.10/site-packages/sklearn/svm/_classes.py:32: FutureWarning: The default value of `dual` will change from `True` to `'auto'` in 1.5. Set the value of `dual` explicitly to suppress the warning.\n",
      "  warnings.warn(\n",
      "/Users/harshavardhan/anaconda3/lib/python3.10/site-packages/sklearn/svm/_base.py:1242: ConvergenceWarning: Liblinear failed to converge, increase the number of iterations.\n",
      "  warnings.warn(\n"
     ]
    },
    {
     "name": "stdout",
     "output_type": "stream",
     "text": [
      "Accuracy for k = 5: 0.34225\n"
     ]
    },
    {
     "name": "stderr",
     "output_type": "stream",
     "text": [
      "/Users/harshavardhan/anaconda3/lib/python3.10/site-packages/sklearn/svm/_classes.py:32: FutureWarning: The default value of `dual` will change from `True` to `'auto'` in 1.5. Set the value of `dual` explicitly to suppress the warning.\n",
      "  warnings.warn(\n",
      "/Users/harshavardhan/anaconda3/lib/python3.10/site-packages/sklearn/svm/_base.py:1242: ConvergenceWarning: Liblinear failed to converge, increase the number of iterations.\n",
      "  warnings.warn(\n"
     ]
    },
    {
     "name": "stdout",
     "output_type": "stream",
     "text": [
      "Accuracy for k = 10: 0.38908333333333334\n"
     ]
    },
    {
     "name": "stderr",
     "output_type": "stream",
     "text": [
      "/Users/harshavardhan/anaconda3/lib/python3.10/site-packages/sklearn/svm/_classes.py:32: FutureWarning: The default value of `dual` will change from `True` to `'auto'` in 1.5. Set the value of `dual` explicitly to suppress the warning.\n",
      "  warnings.warn(\n",
      "/Users/harshavardhan/anaconda3/lib/python3.10/site-packages/sklearn/svm/_base.py:1242: ConvergenceWarning: Liblinear failed to converge, increase the number of iterations.\n",
      "  warnings.warn(\n"
     ]
    },
    {
     "name": "stdout",
     "output_type": "stream",
     "text": [
      "Accuracy for k = 20: 0.5011666666666666\n"
     ]
    },
    {
     "name": "stderr",
     "output_type": "stream",
     "text": [
      "/Users/harshavardhan/anaconda3/lib/python3.10/site-packages/sklearn/svm/_classes.py:32: FutureWarning: The default value of `dual` will change from `True` to `'auto'` in 1.5. Set the value of `dual` explicitly to suppress the warning.\n",
      "  warnings.warn(\n",
      "/Users/harshavardhan/anaconda3/lib/python3.10/site-packages/sklearn/svm/_base.py:1242: ConvergenceWarning: Liblinear failed to converge, increase the number of iterations.\n",
      "  warnings.warn(\n"
     ]
    },
    {
     "name": "stdout",
     "output_type": "stream",
     "text": [
      "Accuracy for k = 50: 0.6366666666666667\n"
     ]
    },
    {
     "name": "stderr",
     "output_type": "stream",
     "text": [
      "/Users/harshavardhan/anaconda3/lib/python3.10/site-packages/sklearn/svm/_classes.py:32: FutureWarning: The default value of `dual` will change from `True` to `'auto'` in 1.5. Set the value of `dual` explicitly to suppress the warning.\n",
      "  warnings.warn(\n"
     ]
    },
    {
     "name": "stdout",
     "output_type": "stream",
     "text": [
      "Accuracy for k = 100: 0.72875\n"
     ]
    },
    {
     "name": "stderr",
     "output_type": "stream",
     "text": [
      "/Users/harshavardhan/anaconda3/lib/python3.10/site-packages/sklearn/svm/_base.py:1242: ConvergenceWarning: Liblinear failed to converge, increase the number of iterations.\n",
      "  warnings.warn(\n"
     ]
    }
   ],
   "source": [
    "# testing the method with variation in the number of clusters\n",
    "results = {}\n",
    "for k in [1, 2, 5, 10, 20, 50, 100]:\n",
    "    codebook, distortion = kmeans(final_des, k, 2)\n",
    "\n",
    "    mnist_words = []\n",
    "    for d in mnist_descriptors:\n",
    "        if d is not None:\n",
    "            code, dist = vq(d, codebook)\n",
    "            mnist_words.append(code)\n",
    "\n",
    "    freq_vecs = []\n",
    "    for word in mnist_words:\n",
    "        freq_vec = np.zeros(k)\n",
    "        for w in word:\n",
    "            freq_vec[w] += 1\n",
    "        freq_vecs.append(freq_vec)\n",
    "    freq_vecs = np.stack(freq_vecs, axis=0)\n",
    "\n",
    "    x_train, X_test, y_train, y_test = train_test_split(freq_vecs, trainset.targets.numpy(), test_size=0.2, random_state=42)\n",
    "    model = LinearSVC(C=1, random_state=42)\n",
    "    model.fit(x_train, y_train)\n",
    "    y_pred = model.predict(X_test)\n",
    "    accuracy = accuracy_score(y_test, y_pred)\n",
    "    print(\"Accuracy for k = {}: {}\".format(k, accuracy))\n",
    "\n",
    "    results[k] = accuracy"
   ]
  },
  {
   "cell_type": "code",
   "execution_count": 185,
   "metadata": {},
   "outputs": [
    {
     "data": {
      "image/png": "[encoded data removed]",
      "text/plain": [
       "<Figure size 640x480 with 1 Axes>"
      ]
     },
     "metadata": {},
     "output_type": "display_data"
    }
   ],
   "source": [
    "# plotting the results\n",
    "plt.plot(list(results.keys()), list(results.values()))\n",
    "plt.title('Accuracy vs Number of clusters')\n",
    "plt.xlabel('Number of clusters')\n",
    "plt.ylabel('Accuracy')\n",
    "plt.show()"
   ]
  },
  {
   "cell_type": "markdown",
   "metadata": {},
   "source": [
    "- The SIFT-BoVW-SVM classifier performs better on increasing the number of clusters because the number of clusters is directly proportional to the number of visual words. The number of visual words is directly proportional to the number of features that are being extracted from the image. The more the number of features, the more the information that is being extracted from the image. This information is then used to train the SVM model. The more the information, the better the model is trained and the better the model performs on the test data."
   ]
  },
  {
   "cell_type": "markdown",
   "metadata": {},
   "source": [
    "### 1.3"
   ]
  },
  {
   "cell_type": "code",
   "execution_count": 11,
   "metadata": {},
   "outputs": [
    {
     "name": "stdout",
     "output_type": "stream",
     "text": [
      "Accuracy for {'random_state': 42, 'kernel': 'linear'}: 0.4771666666666667\n",
      "Accuracy for {'random_state': 42, 'kernel': 'sigmoid'}: 0.2708333333333333\n",
      "Accuracy for {'random_state': 42, 'kernel': 'linear'}: 0.46375\n",
      "Accuracy for {'random_state': 42, 'kernel': 'sigmoid'}: 0.23466666666666666\n",
      "Accuracy for {'random_state': 42, 'kernel': 'linear'}: 0.5095833333333334\n",
      "Accuracy for {'random_state': 42, 'kernel': 'sigmoid'}: 0.25075\n"
     ]
    }
   ],
   "source": [
    "# hyperparameter checking\n",
    "params = [\n",
    "    [dict(nOctaveLayers=2), dict(random_state=42, kernel='linear'), 'normal'],\n",
    "    [dict(nOctaveLayers=2), dict(random_state=42, kernel='sigmoid'), 'normal'],\n",
    "    [dict(nOctaveLayers=3), dict(random_state=42, kernel='linear'), 'normal'],\n",
    "    [dict(nOctaveLayers=3), dict(random_state=42, kernel='sigmoid'), 'normal'],\n",
    "    [dict(nOctaveLayers=4), dict(random_state=42, kernel='linear'), 'normal'],\n",
    "    [dict(nOctaveLayers=4), dict(random_state=42, kernel='sigmoid'), 'normal']\n",
    "]\n",
    "\n",
    "results = {}\n",
    "for param in params:\n",
    "    # opening the parameters\n",
    "    sift_params, svm_params, svm_type = param\n",
    "\n",
    "    # creating the SIFT object\n",
    "    sift = cv2.SIFT_create(**sift_params)\n",
    "    mnist_keypoints = []\n",
    "    mnist_descriptors = []\n",
    "    for i in range(len(trainset)):\n",
    "        img = trainset[i][0].numpy().squeeze() * 255\n",
    "        img = img.astype(np.uint8)\n",
    "        kp, des = sift.detectAndCompute(img, None)\n",
    "        mnist_keypoints.append(kp)\n",
    "        mnist_descriptors.append(des if des is not None else np.zeros((1, 128)))\n",
    "\n",
    "    # getting all the descriptors in a single array\n",
    "    final_des = []\n",
    "    for des in mnist_descriptors:\n",
    "        if des is not None:\n",
    "            for d in des:\n",
    "                final_des.append(d)\n",
    "    final_des = np.stack(final_des, axis=0)\n",
    "\n",
    "    # generating the codebook\n",
    "    codebook, distortion = kmeans(final_des, 15, 2)\n",
    "\n",
    "    # getting the visual words for the entire dataset\n",
    "    mnist_words = []\n",
    "    for d in mnist_descriptors:\n",
    "        if d is not None:\n",
    "            code, dist = vq(d, codebook)\n",
    "            mnist_words.append(code)\n",
    "    freq_vecs = []\n",
    "\n",
    "    # getting the frequency vectors for the entire dataset\n",
    "    for word in mnist_words:\n",
    "        freq_vec = np.zeros(15)\n",
    "        for w in word:\n",
    "            freq_vec[w] += 1\n",
    "        freq_vecs.append(freq_vec)\n",
    "    freq_vecs = np.stack(freq_vecs, axis=0)\n",
    "\n",
    "    # splitting the dataset into training and testing\n",
    "    x_train, X_test, y_train, y_test = train_test_split(freq_vecs, trainset.targets.numpy(), test_size=0.2, random_state=42)\n",
    "    if svm_type == 'normal':\n",
    "        model = SVC(**svm_params)\n",
    "    else:\n",
    "        model = LinearSVC(**svm_params)\n",
    "    model.fit(x_train, y_train)\n",
    "    y_pred = model.predict(X_test)\n",
    "\n",
    "    accuracy = accuracy_score(y_test, y_pred)\n",
    "    print(\"Accuracy for {}: {}\".format(svm_params, accuracy))\n",
    "\n",
    "    # saving the results\n",
    "    results[str(param)] = accuracy"
   ]
  },
  {
   "cell_type": "code",
   "execution_count": 12,
   "metadata": {},
   "outputs": [
    {
     "data": {
      "image/png": "[encoded data removed]",
      "text/plain": [
       "<Figure size 640x480 with 1 Axes>"
      ]
     },
     "metadata": {},
     "output_type": "display_data"
    }
   ],
   "source": [
    "# plotting the results\n",
    "params = list(results.keys())\n",
    "params = [eval(p) for p in params]\n",
    "accuracy = list(results.values())\n",
    "linear_acc = [acc for param, acc in zip(params, accuracy) if param[1]['kernel'] == 'linear']\n",
    "sigmoid_acc = [acc for param, acc in zip(params, accuracy) if param[1]['kernel'] == 'sigmoid']\n",
    "\n",
    "plt.plot(range(len(linear_acc)), linear_acc, label='Linear')\n",
    "plt.plot(range(len(sigmoid_acc)), sigmoid_acc, label='Sigmoid')\n",
    "plt.title('Accuracy vs Parameters')\n",
    "plt.xlabel('Parameter set')\n",
    "plt.ylabel('Accuracy')\n",
    "plt.legend()\n",
    "plt.show()"
   ]
  },
  {
   "cell_type": "markdown",
   "metadata": {},
   "source": [
    "- All the testing here is done using only 15 clusters  obtained with iteration of 2 and so are not high performing models. However, we can expect similar trends to be observed in the high performing models as well.\n",
    "\n",
    "- The number of octave layers influences the SIFT class by changing the number of features that are being extracted from the image. The more the number of features, the more the information that is being extracted from the image. This information is then used to train the SVM model. The more the information, the better the model is trained and the better the model performs on the test data.\n",
    "- However, the number of octave layers also increases the time taken to extract the features from the image. This is because the number of features that are being extracted from the image is directly proportional to the number of octave layers. The more the number of features, the more the time taken to extract the features from the image.\n",
    "\n",
    "- The kernel function changes the SVM model by changing the way the data is being classified. The kernel function is used to map the data to a higher dimension so that the data can be classified more easily. Linear kernel function is used to classify the data when the data is linearly separable. Sigmoid kernel function is used to classify the data when the data is not linearly separable. Polynomial kernel function is used to classify the data when the data is not linearly separable and the degree of the polynomial is used to classify the data.\n",
    "- In this case, sigmoid kernel performs much worse compared to the linear kernel, and we can expect the polynomial kernel to perform closer to the linear kernel, as polynomial can be used to classify non-linearly separable data as well as linear data."
   ]
  },
  {
   "cell_type": "markdown",
   "metadata": {},
   "source": [
    "## Q2: CNNs and Transformers"
   ]
  },
  {
   "cell_type": "markdown",
   "metadata": {},
   "source": [
    "### 2.1"
   ]
  },
  {
   "cell_type": "markdown",
   "metadata": {},
   "source": [
    "#### CNN"
   ]
  },
  {
   "cell_type": "code",
   "execution_count": 2,
   "metadata": {},
   "outputs": [],
   "source": [
    "# building the LeNet CNN model for predicting the MNIST dataset\n",
    "class LeNet(torch.nn.Module):\n",
    "    def __init__(self):\n",
    "        super(LeNet, self).__init__()\n",
    "        self.conv1 = torch.nn.Conv2d(1, 6, kernel_size=5, stride=1, padding=2)\n",
    "        self.conv2 = torch.nn.Conv2d(6, 16, kernel_size=5, stride=1, padding=0)\n",
    "        self.fc1 = torch.nn.Linear(16*5*5, 120)\n",
    "        self.fc2 = torch.nn.Linear(120, 84)\n",
    "        self.fc3 = torch.nn.Linear(84, 10)\n",
    "        self.relu = torch.nn.ReLU()\n",
    "        self.pool = torch.nn.MaxPool2d(kernel_size=2, stride=2, padding=0)\n",
    "\n",
    "    def forward(self, x):\n",
    "        x = self.relu(self.conv1(x))\n",
    "        x = self.pool(x)\n",
    "        x = self.relu(self.conv2(x))\n",
    "        x = self.pool(x)\n",
    "        x = x.view(-1, 16*5*5)\n",
    "        x = self.relu(self.fc1(x))\n",
    "        x = self.relu(self.fc2(x))\n",
    "        x = self.fc3(x)\n",
    "        return x"
   ]
  },
  {
   "cell_type": "markdown",
   "metadata": {},
   "source": [
    "#### Vision Transformer Encoder"
   ]
  },
  {
   "cell_type": "code",
   "execution_count": 3,
   "metadata": {},
   "outputs": [],
   "source": [
    "class ViT(nn.Module):\n",
    "    def __init__(self, input_size, patch_size, hidden_dim, num_heads, num_layers):\n",
    "        super().__init__()\n",
    "        self.patch_size = patch_size\n",
    "        self.hidden_dim = hidden_dim\n",
    "        self.num_patches = int(input_size[0] * input_size[1] / (self.patch_size ** 2))\n",
    "        self.cls_token = nn.Parameter(torch.randn(1, 1, hidden_dim))\n",
    "\n",
    "        self.patch2vec = nn.Conv2d(1, hidden_dim, kernel_size=self.patch_size, stride=self.patch_size)\n",
    "        self.pos_embeddings = nn.Parameter(torch.randn(1, self.num_patches, self.hidden_dim))\n",
    "        self.encoder = nn.TransformerEncoder(nn.TransformerEncoderLayer(d_model=hidden_dim, nhead=num_heads, dim_feedforward=2*hidden_dim, batch_first=True), num_layers=num_layers)\n",
    "        self.classifier = nn.Linear(hidden_dim, 10)\n",
    "\n",
    "    def embed(self, x):\n",
    "        x = self.patch2vec(x).reshape(x.shape[0], self.hidden_dim, -1)\n",
    "        x = x.permute(0, 2, 1) + self.pos_embeddings\n",
    "        x = torch.cat([self.cls_token + torch.zeros(x.shape[0], 1, 1), x], 1)\n",
    "        return x\n",
    "\n",
    "    def forward(self, x):\n",
    "        x = self.embed(x)\n",
    "        x = self.encoder(x)\n",
    "        x = self.classifier(x[:, 0])\n",
    "        return x"
   ]
  },
  {
   "cell_type": "markdown",
   "metadata": {},
   "source": [
    "#### Trainer"
   ]
  },
  {
   "cell_type": "code",
   "execution_count": 53,
   "metadata": {},
   "outputs": [],
   "source": [
    "class Classifier:\n",
    "    def __init__(self, logging=False):\n",
    "        self.logging = logging\n",
    "        if self.logging:\n",
    "            wandb.init(project='mnist-classification', entity='rockingharsha71')\n",
    "            self.config = wandb.config\n",
    "\n",
    "    # data processing (dataset and dataloaders)\n",
    "    def prepare_data(self, batch_size=64, shuffle=True, transform=None, train_size=60000):\n",
    "        if transform is None:\n",
    "            transform = transforms.Compose([transforms.ToTensor(), transforms.Normalize((0.5,), (0.5,))])\n",
    "        self.trainset = datasets.MNIST('mnist', download=True, train=True, transform=transform)\n",
    "        self.testset = datasets.MNIST('mnist', download=True, train=False, transform=transform)\n",
    "        if train_size < 60000:\n",
    "            # split the dataset such that the class distribution is maintained\n",
    "            classes_count = np.zeros(10)\n",
    "            trainset = []\n",
    "            testset = []\n",
    "            for i in range(len(self.trainset)):\n",
    "                if classes_count[self.trainset[i][1]] < train_size / 10:\n",
    "                    trainset.append(self.trainset[i])\n",
    "                    classes_count[self.trainset[i][1]] += 1\n",
    "            self.trainset = trainset\n",
    "        self.trainloader = torch.utils.data.DataLoader(self.trainset, batch_size=64, shuffle=shuffle)\n",
    "        self.testloader = torch.utils.data.DataLoader(self.testset, batch_size=64, shuffle=shuffle)\n",
    "        if self.logging:\n",
    "            self.config.batch_size = batch_size\n",
    "            self.config.dataset = 'MNIST'\n",
    "\n",
    "    # model creation and setup\n",
    "    def create_model(self, model, optimizer, criterion, lr=0.001, weight_decay=0.0001):\n",
    "        torch.manual_seed(42)\n",
    "        torch.random.manual_seed(42)\n",
    "        # self.model = LeNet()\n",
    "        # self.model = ViT((28, 28), 4, 100, 4, 2)\n",
    "        self.model = model\n",
    "        self.optimizer = optimizer(self.model.parameters(), lr=lr, weight_decay=weight_decay)\n",
    "        self.criterion = criterion()\n",
    "\n",
    "        if self.logging:\n",
    "            if self.optimizer.__class__.__name__ == 'Adam':\n",
    "                self.config.optimizer = 'Adam'\n",
    "            elif self.optimizer.__class__.__name__ == 'SGD':\n",
    "                self.config.optimizer = 'SGD'\n",
    "            self.config.lr = lr\n",
    "            self.config.weight_decay = weight_decay\n",
    "            if self.model.__class__.__name__ == 'LeNet':\n",
    "                self.config.model = 'LeNet'\n",
    "            elif self.model.__class__.__name__ == 'ViT':\n",
    "                self.config.model = 'ViT'\n",
    "                self.config.patch_size = 4\n",
    "                self.config.hidden_dim = 100\n",
    "                self.config.num_heads = 4\n",
    "                self.config.num_layers = 2\n",
    "            if self.criterion.__class__.__name__ == 'CrossEntropyLoss':\n",
    "                self.config.criterion = 'CrossEntropyLoss'\n",
    "            elif self.criterion.__class__.__name__ == 'MSELoss':\n",
    "                self.config.criterion = 'MSELoss'\n",
    "            elif self.criterion.__class__.__name__ == 'NLLLoss':\n",
    "                self.config.criterion = 'NLLLoss'\n",
    "            self.config.num_epochs = 5\n",
    "\n",
    "    # training and evaluation\n",
    "    def train(self):\n",
    "        self.train_losses = []\n",
    "        self.train_counter = []\n",
    "\n",
    "        self.model.train()\n",
    "        pbar = tqdm.tqdm(self.trainloader)\n",
    "        acc = 0\n",
    "        total_loss = 0\n",
    "        len_targets = 0\n",
    "        for batch_idx, (data, target) in enumerate(pbar):\n",
    "            self.optimizer.zero_grad()\n",
    "            output = self.model(data)\n",
    "            loss = self.criterion(output, target)\n",
    "            loss.backward()\n",
    "            self.optimizer.step()\n",
    "            pbar.set_description(desc= 'loss={:.4f}'.format(loss.item()))\n",
    "            self.train_losses.append(loss.item() / 64)\n",
    "            self.train_counter.append(\n",
    "                (batch_idx*64) + ((self.n_epochs-1)*len(self.trainloader.dataset)))\n",
    "            for i in range(len(target)):\n",
    "                if target[i] == torch.argmax(output[i]):\n",
    "                    acc += 1\n",
    "            total_loss += loss.item()\n",
    "            len_targets += len(target)\n",
    "        acc = acc / len_targets\n",
    "        total_loss = total_loss / len_targets\n",
    "        if self.logging:\n",
    "            wandb.log({'train_loss': total_loss / 64, 'train_accuracy': acc})\n",
    "        return acc, total_loss\n",
    "\n",
    "    def evaluate(self):\n",
    "        self.test_losses = []\n",
    "        self.test_counter = [i*len(self.trainloader.dataset) for i in range(1, self.n_epochs + 1)]\n",
    "\n",
    "        self.model.eval()\n",
    "        test_loss = 0\n",
    "        correct = 0\n",
    "        with torch.no_grad():\n",
    "            for data, target in self.testloader:\n",
    "                output = self.model(data)\n",
    "                test_loss += self.criterion(output, target).item()\n",
    "                pred = output.data.max(1, keepdim=True)[1]\n",
    "                correct += pred.eq(target.data.view_as(pred)).sum()\n",
    "        test_loss /= len(self.testloader.dataset)\n",
    "        self.test_losses.append(test_loss)\n",
    "        print('\\nTest set: Avg. loss: {:.4f}, Accuracy: {}/{} ({:.0f}%)\\n'.format(\n",
    "            test_loss, correct, len(self.testloader.dataset),\n",
    "            100. * correct / len(self.testloader.dataset)))\n",
    "        if self.logging:\n",
    "            wandb.log({'test_loss': test_loss, 'test_accuracy': correct / len(self.testloader.dataset)})\n",
    "        return correct / len(self.testloader.dataset), test_loss\n",
    "\n",
    "    def train_model(self, n_epochs=5):\n",
    "        self.n_epochs = n_epochs\n",
    "        train_accuracy, test_accuracy = 0, 0\n",
    "        train_loss, test_loss = 0, 0\n",
    "        for epoch in range(1, n_epochs + 1):\n",
    "            train_accuracy, train_loss = self.train()\n",
    "            test_accuracy, test_loss = self.evaluate()\n",
    "\n",
    "        if self.logging:\n",
    "            wandb.finish()\n",
    "\n",
    "        return train_accuracy, train_loss, test_accuracy, test_loss\n",
    "\n",
    "    # prediction\n",
    "    def predict(self, image):\n",
    "        image = cv2.resize(image, (28, 28))\n",
    "        image = cv2.cvtColor(image, cv2.COLOR_BGR2GRAY)\n",
    "        image = image / 255.0\n",
    "        image = image.reshape(1, 1, 28, 28)\n",
    "        image = torch.tensor(image, dtype=torch.float32)\n",
    "        output = self.model(image)\n",
    "        _, predicted = torch.max(output.data, 1)\n",
    "        return predicted.item()"
   ]
  },
  {
   "cell_type": "code",
   "execution_count": 62,
   "metadata": {},
   "outputs": [
    {
     "name": "stderr",
     "output_type": "stream",
     "text": [
      "Failed to detect the name of this notebook, you can set it manually with the WANDB_NOTEBOOK_NAME environment variable to enable code saving.\n",
      "\u001b[34m\u001b[1mwandb\u001b[0m: Currently logged in as: \u001b[33mrockingharsha71\u001b[0m. Use \u001b[1m`wandb login --relogin`\u001b[0m to force relogin\n"
     ]
    },
    {
     "data": {
      "text/html": [
       "wandb version 0.16.4 is available!  To upgrade, please run:\n",
       " $ pip install wandb --upgrade"
      ],
      "text/plain": [
       "<IPython.core.display.HTML object>"
      ]
     },
     "metadata": {},
     "output_type": "display_data"
    },
    {
     "data": {
      "text/html": [
       "Tracking run with wandb version 0.16.3"
      ],
      "text/plain": [
       "<IPython.core.display.HTML object>"
      ]
     },
     "metadata": {},
     "output_type": "display_data"
    },
    {
     "data": {
      "text/html": [
       "Run data is saved locally in <code>/Users/harshavardhan/Documents/CV/CV-Assignment2/wandb/run-20240308_203152-q41kenkv</code>"
      ],
      "text/plain": [
       "<IPython.core.display.HTML object>"
      ]
     },
     "metadata": {},
     "output_type": "display_data"
    },
    {
     "data": {
      "text/html": [
       "Syncing run <strong><a href='https://wandb.ai/rockingharsha71/mnist-classification/runs/q41kenkv' target=\"_blank\">hearty-pine-1</a></strong> to <a href='https://wandb.ai/rockingharsha71/mnist-classification' target=\"_blank\">Weights & Biases</a> (<a href='https://wandb.me/run' target=\"_blank\">docs</a>)<br/>"
      ],
      "text/plain": [
       "<IPython.core.display.HTML object>"
      ]
     },
     "metadata": {},
     "output_type": "display_data"
    },
    {
     "data": {
      "text/html": [
       " View project at <a href='https://wandb.ai/rockingharsha71/mnist-classification' target=\"_blank\">https://wandb.ai/rockingharsha71/mnist-classification</a>"
      ],
      "text/plain": [
       "<IPython.core.display.HTML object>"
      ]
     },
     "metadata": {},
     "output_type": "display_data"
    },
    {
     "data": {
      "text/html": [
       " View run at <a href='https://wandb.ai/rockingharsha71/mnist-classification/runs/q41kenkv' target=\"_blank\">https://wandb.ai/rockingharsha71/mnist-classification/runs/q41kenkv</a>"
      ],
      "text/plain": [
       "<IPython.core.display.HTML object>"
      ]
     },
     "metadata": {},
     "output_type": "display_data"
    },
    {
     "name": "stderr",
     "output_type": "stream",
     "text": [
      "loss=0.0349: 100%|██████████| 938/938 [00:14<00:00, 64.46it/s]\n"
     ]
    },
    {
     "name": "stdout",
     "output_type": "stream",
     "text": [
      "\n",
      "Test set: Avg. loss: 0.0017, Accuracy: 9651/10000 (97%)\n",
      "\n"
     ]
    },
    {
     "name": "stderr",
     "output_type": "stream",
     "text": [
      "loss=0.0055: 100%|██████████| 938/938 [00:13<00:00, 68.25it/s]\n"
     ]
    },
    {
     "name": "stdout",
     "output_type": "stream",
     "text": [
      "\n",
      "Test set: Avg. loss: 0.0009, Accuracy: 9824/10000 (98%)\n",
      "\n"
     ]
    },
    {
     "name": "stderr",
     "output_type": "stream",
     "text": [
      "loss=0.0015: 100%|██████████| 938/938 [00:13<00:00, 68.20it/s]\n"
     ]
    },
    {
     "name": "stdout",
     "output_type": "stream",
     "text": [
      "\n",
      "Test set: Avg. loss: 0.0007, Accuracy: 9853/10000 (99%)\n",
      "\n"
     ]
    },
    {
     "name": "stderr",
     "output_type": "stream",
     "text": [
      "loss=0.0042: 100%|██████████| 938/938 [00:13<00:00, 71.51it/s]\n"
     ]
    },
    {
     "name": "stdout",
     "output_type": "stream",
     "text": [
      "\n",
      "Test set: Avg. loss: 0.0006, Accuracy: 9866/10000 (99%)\n",
      "\n"
     ]
    },
    {
     "name": "stderr",
     "output_type": "stream",
     "text": [
      "loss=0.0005: 100%|██████████| 938/938 [00:13<00:00, 68.11it/s]\n"
     ]
    },
    {
     "name": "stdout",
     "output_type": "stream",
     "text": [
      "\n",
      "Test set: Avg. loss: 0.0006, Accuracy: 9878/10000 (99%)\n",
      "\n"
     ]
    },
    {
     "name": "stderr",
     "output_type": "stream",
     "text": [
      "wandb: WARNING Source type is set to 'repo' but some required information is missing from the environment. A job will not be created from this run. See https://docs.wandb.ai/guides/launch/create-job\n"
     ]
    },
    {
     "data": {
      "text/html": [
       "<style>\n",
       "    table.wandb td:nth-child(1) { padding: 0 10px; text-align: left ; width: auto;} td:nth-child(2) {text-align: left ; width: 100%}\n",
       "    .wandb-row { display: flex; flex-direction: row; flex-wrap: wrap; justify-content: flex-start; width: 100% }\n",
       "    .wandb-col { display: flex; flex-direction: column; flex-basis: 100%; flex: 1; padding: 10px; }\n",
       "    </style>\n",
       "<div class=\"wandb-row\"><div class=\"wandb-col\"><h3>Run history:</h3><br/><table class=\"wandb\"><tr><td>test_accuracy</td><td>▁▆▇██</td></tr><tr><td>test_loss</td><td>█▃▂▁▁</td></tr><tr><td>train_accuracy</td><td>▁▇▇██</td></tr><tr><td>train_loss</td><td>█▂▂▁▁</td></tr></table><br/></div><div class=\"wandb-col\"><h3>Run summary:</h3><br/><table class=\"wandb\"><tr><td>test_accuracy</td><td>0.9878</td></tr><tr><td>test_loss</td><td>0.00057</td></tr><tr><td>train_accuracy</td><td>0.98883</td></tr><tr><td>train_loss</td><td>1e-05</td></tr></table><br/></div></div>"
      ],
      "text/plain": [
       "<IPython.core.display.HTML object>"
      ]
     },
     "metadata": {},
     "output_type": "display_data"
    },
    {
     "data": {
      "text/html": [
       " View run <strong style=\"color:#cdcd00\">hearty-pine-1</strong> at: <a href='https://wandb.ai/rockingharsha71/mnist-classification/runs/q41kenkv' target=\"_blank\">https://wandb.ai/rockingharsha71/mnist-classification/runs/q41kenkv</a><br/>Synced 6 W&B file(s), 0 media file(s), 0 artifact file(s) and 0 other file(s)"
      ],
      "text/plain": [
       "<IPython.core.display.HTML object>"
      ]
     },
     "metadata": {},
     "output_type": "display_data"
    },
    {
     "data": {
      "text/html": [
       "Find logs at: <code>./wandb/run-20240308_203152-q41kenkv/logs</code>"
      ],
      "text/plain": [
       "<IPython.core.display.HTML object>"
      ]
     },
     "metadata": {},
     "output_type": "display_data"
    },
    {
     "data": {
      "text/plain": [
       "(0.9888333333333333,\n",
       " 0.0005753606732807384,\n",
       " tensor(0.9878),\n",
       " 0.0005731480974138321)"
      ]
     },
     "execution_count": 62,
     "metadata": {},
     "output_type": "execute_result"
    }
   ],
   "source": [
    "classifier = Classifier(logging=True)\n",
    "classifier.prepare_data(shuffle=False)\n",
    "classifier.create_model(model=LeNet(), optimizer=torch.optim.Adam, criterion=nn.CrossEntropyLoss)\n",
    "classifier.train_model(n_epochs=5)"
   ]
  },
  {
   "cell_type": "markdown",
   "metadata": {},
   "source": [
    "The sample run can be found [here](https://wandb.ai/rockingharsha71/mnist-classification?nw=nwuserrockingharsha71)"
   ]
  },
  {
   "cell_type": "markdown",
   "metadata": {},
   "source": [
    "### 2.2"
   ]
  },
  {
   "cell_type": "markdown",
   "metadata": {},
   "source": [
    "#### Influence of Learning Rate"
   ]
  },
  {
   "cell_type": "code",
   "execution_count": 14,
   "metadata": {},
   "outputs": [
    {
     "name": "stderr",
     "output_type": "stream",
     "text": [
      "loss=0.0430: 100%|██████████| 938/938 [00:13<00:00, 69.69it/s]\n"
     ]
    },
    {
     "name": "stdout",
     "output_type": "stream",
     "text": [
      "\n",
      "Test set: Avg. loss: 0.0021, Accuracy: 9617/10000 (96%)\n",
      "\n"
     ]
    },
    {
     "name": "stderr",
     "output_type": "stream",
     "text": [
      "loss=0.0011: 100%|██████████| 938/938 [00:13<00:00, 68.17it/s]\n"
     ]
    },
    {
     "name": "stdout",
     "output_type": "stream",
     "text": [
      "\n",
      "Test set: Avg. loss: 0.0016, Accuracy: 9709/10000 (97%)\n",
      "\n"
     ]
    },
    {
     "name": "stderr",
     "output_type": "stream",
     "text": [
      "loss=0.0364: 100%|██████████| 938/938 [00:13<00:00, 71.60it/s]\n"
     ]
    },
    {
     "name": "stdout",
     "output_type": "stream",
     "text": [
      "\n",
      "Test set: Avg. loss: 0.0030, Accuracy: 9529/10000 (95%)\n",
      "\n"
     ]
    },
    {
     "name": "stderr",
     "output_type": "stream",
     "text": [
      "loss=0.0102: 100%|██████████| 938/938 [00:12<00:00, 72.96it/s]\n"
     ]
    },
    {
     "name": "stdout",
     "output_type": "stream",
     "text": [
      "\n",
      "Test set: Avg. loss: 0.0015, Accuracy: 9744/10000 (97%)\n",
      "\n"
     ]
    },
    {
     "name": "stderr",
     "output_type": "stream",
     "text": [
      "loss=0.0136: 100%|██████████| 938/938 [00:13<00:00, 70.50it/s]\n"
     ]
    },
    {
     "name": "stdout",
     "output_type": "stream",
     "text": [
      "\n",
      "Test set: Avg. loss: 0.0012, Accuracy: 9803/10000 (98%)\n",
      "\n"
     ]
    },
    {
     "name": "stderr",
     "output_type": "stream",
     "text": [
      "loss=0.0150: 100%|██████████| 938/938 [00:13<00:00, 68.36it/s]\n"
     ]
    },
    {
     "name": "stdout",
     "output_type": "stream",
     "text": [
      "\n",
      "Test set: Avg. loss: 0.0014, Accuracy: 9724/10000 (97%)\n",
      "\n"
     ]
    },
    {
     "name": "stderr",
     "output_type": "stream",
     "text": [
      "loss=0.0088: 100%|██████████| 938/938 [00:13<00:00, 68.24it/s]\n"
     ]
    },
    {
     "name": "stdout",
     "output_type": "stream",
     "text": [
      "\n",
      "Test set: Avg. loss: 0.0009, Accuracy: 9824/10000 (98%)\n",
      "\n"
     ]
    },
    {
     "name": "stderr",
     "output_type": "stream",
     "text": [
      "loss=0.0044: 100%|██████████| 938/938 [00:14<00:00, 66.99it/s]\n"
     ]
    },
    {
     "name": "stdout",
     "output_type": "stream",
     "text": [
      "\n",
      "Test set: Avg. loss: 0.0007, Accuracy: 9863/10000 (99%)\n",
      "\n"
     ]
    },
    {
     "name": "stderr",
     "output_type": "stream",
     "text": [
      "loss=0.0020: 100%|██████████| 938/938 [00:13<00:00, 67.93it/s]\n"
     ]
    },
    {
     "name": "stdout",
     "output_type": "stream",
     "text": [
      "\n",
      "Test set: Avg. loss: 0.0006, Accuracy: 9875/10000 (99%)\n",
      "\n"
     ]
    },
    {
     "name": "stderr",
     "output_type": "stream",
     "text": [
      "loss=0.0010: 100%|██████████| 938/938 [00:14<00:00, 63.93it/s]\n"
     ]
    },
    {
     "name": "stdout",
     "output_type": "stream",
     "text": [
      "\n",
      "Test set: Avg. loss: 0.0007, Accuracy: 9850/10000 (98%)\n",
      "\n"
     ]
    },
    {
     "name": "stderr",
     "output_type": "stream",
     "text": [
      "loss=0.3032: 100%|██████████| 938/938 [00:15<00:00, 61.04it/s]\n"
     ]
    },
    {
     "name": "stdout",
     "output_type": "stream",
     "text": [
      "\n",
      "Test set: Avg. loss: 0.0054, Accuracy: 9025/10000 (90%)\n",
      "\n"
     ]
    },
    {
     "name": "stderr",
     "output_type": "stream",
     "text": [
      "loss=0.1285: 100%|██████████| 938/938 [00:16<00:00, 58.43it/s]\n"
     ]
    },
    {
     "name": "stdout",
     "output_type": "stream",
     "text": [
      "\n",
      "Test set: Avg. loss: 0.0033, Accuracy: 9376/10000 (94%)\n",
      "\n"
     ]
    },
    {
     "name": "stderr",
     "output_type": "stream",
     "text": [
      "loss=0.0491: 100%|██████████| 938/938 [00:17<00:00, 53.27it/s]\n"
     ]
    },
    {
     "name": "stdout",
     "output_type": "stream",
     "text": [
      "\n",
      "Test set: Avg. loss: 0.0023, Accuracy: 9538/10000 (95%)\n",
      "\n"
     ]
    },
    {
     "name": "stderr",
     "output_type": "stream",
     "text": [
      "loss=0.0279: 100%|██████████| 938/938 [00:18<00:00, 50.80it/s]\n"
     ]
    },
    {
     "name": "stdout",
     "output_type": "stream",
     "text": [
      "\n",
      "Test set: Avg. loss: 0.0018, Accuracy: 9646/10000 (96%)\n",
      "\n"
     ]
    },
    {
     "name": "stderr",
     "output_type": "stream",
     "text": [
      "loss=0.0199: 100%|██████████| 938/938 [00:17<00:00, 53.40it/s]\n"
     ]
    },
    {
     "name": "stdout",
     "output_type": "stream",
     "text": [
      "\n",
      "Test set: Avg. loss: 0.0014, Accuracy: 9710/10000 (97%)\n",
      "\n"
     ]
    }
   ],
   "source": [
    "# testing with different learning rates\n",
    "results = {}\n",
    "for lr in [0.01, 0.001, 0.0001]:\n",
    "    classifier = Classifier()\n",
    "    classifier.prepare_data(shuffle=False)\n",
    "    classifier.create_model(model=LeNet(), optimizer=torch.optim.Adam, criterion=nn.CrossEntropyLoss, lr=lr)\n",
    "    train_accuracy, train_loss, test_accuracy, test_loss = classifier.train_model(n_epochs=5)\n",
    "    results[str(lr)] = {'train_accuracy': train_accuracy, 'train_loss': train_loss, 'test_accuracy': test_accuracy, 'test_loss': test_loss}"
   ]
  },
  {
   "cell_type": "code",
   "execution_count": 15,
   "metadata": {},
   "outputs": [
    {
     "data": {
      "image/png": "[encoded data removed]",
      "text/plain": [
       "<Figure size 1000x1000 with 4 Axes>"
      ]
     },
     "metadata": {},
     "output_type": "display_data"
    }
   ],
   "source": [
    "# plotting the results from the lr\n",
    "fig, axs = plt.subplots(2, 2, figsize=(10, 10))\n",
    "# plotting the train accuracy\n",
    "axs[0, 0].plot(list(results.keys()), [results[lr]['train_accuracy'] for lr in results.keys()])\n",
    "axs[0, 0].set_title('Train Accuracy')\n",
    "# plotting the train loss\n",
    "axs[0, 1].plot(list(results.keys()), [results[lr]['train_loss'] for lr in results.keys()])\n",
    "axs[0, 1].set_title('Train Loss')\n",
    "# plotting the test accuracy\n",
    "axs[1, 0].plot(list(results.keys()), [results[lr]['test_accuracy'] for lr in results.keys()])\n",
    "axs[1, 0].set_title('Test Accuracy')\n",
    "# plotting the test loss\n",
    "axs[1, 1].plot(list(results.keys()), [results[lr]['test_loss'] for lr in results.keys()])\n",
    "axs[1, 1].set_title('Test Loss')\n",
    "plt.show()"
   ]
  },
  {
   "cell_type": "markdown",
   "metadata": {},
   "source": [
    "#### Influence of Batch Size"
   ]
  },
  {
   "cell_type": "code",
   "execution_count": 17,
   "metadata": {},
   "outputs": [
    {
     "name": "stderr",
     "output_type": "stream",
     "text": [
      "loss=0.0150: 100%|██████████| 938/938 [00:13<00:00, 68.08it/s]\n"
     ]
    },
    {
     "name": "stdout",
     "output_type": "stream",
     "text": [
      "\n",
      "Test set: Avg. loss: 0.0014, Accuracy: 9724/10000 (97%)\n",
      "\n"
     ]
    },
    {
     "name": "stderr",
     "output_type": "stream",
     "text": [
      "loss=0.0088: 100%|██████████| 938/938 [00:13<00:00, 67.92it/s]\n"
     ]
    },
    {
     "name": "stdout",
     "output_type": "stream",
     "text": [
      "\n",
      "Test set: Avg. loss: 0.0009, Accuracy: 9824/10000 (98%)\n",
      "\n"
     ]
    },
    {
     "name": "stderr",
     "output_type": "stream",
     "text": [
      "loss=0.0044: 100%|██████████| 938/938 [00:13<00:00, 68.29it/s]\n"
     ]
    },
    {
     "name": "stdout",
     "output_type": "stream",
     "text": [
      "\n",
      "Test set: Avg. loss: 0.0007, Accuracy: 9863/10000 (99%)\n",
      "\n"
     ]
    },
    {
     "name": "stderr",
     "output_type": "stream",
     "text": [
      "loss=0.0020: 100%|██████████| 938/938 [00:13<00:00, 67.21it/s]\n"
     ]
    },
    {
     "name": "stdout",
     "output_type": "stream",
     "text": [
      "\n",
      "Test set: Avg. loss: 0.0006, Accuracy: 9875/10000 (99%)\n",
      "\n"
     ]
    },
    {
     "name": "stderr",
     "output_type": "stream",
     "text": [
      "loss=0.0010: 100%|██████████| 938/938 [00:14<00:00, 65.43it/s]\n"
     ]
    },
    {
     "name": "stdout",
     "output_type": "stream",
     "text": [
      "\n",
      "Test set: Avg. loss: 0.0007, Accuracy: 9850/10000 (98%)\n",
      "\n"
     ]
    },
    {
     "name": "stderr",
     "output_type": "stream",
     "text": [
      "loss=0.0150: 100%|██████████| 938/938 [00:14<00:00, 65.80it/s]\n"
     ]
    },
    {
     "name": "stdout",
     "output_type": "stream",
     "text": [
      "\n",
      "Test set: Avg. loss: 0.0014, Accuracy: 9724/10000 (97%)\n",
      "\n"
     ]
    },
    {
     "name": "stderr",
     "output_type": "stream",
     "text": [
      "loss=0.0088: 100%|██████████| 938/938 [00:14<00:00, 64.34it/s]\n"
     ]
    },
    {
     "name": "stdout",
     "output_type": "stream",
     "text": [
      "\n",
      "Test set: Avg. loss: 0.0009, Accuracy: 9824/10000 (98%)\n",
      "\n"
     ]
    },
    {
     "name": "stderr",
     "output_type": "stream",
     "text": [
      "loss=0.0044: 100%|██████████| 938/938 [00:15<00:00, 61.66it/s]\n"
     ]
    },
    {
     "name": "stdout",
     "output_type": "stream",
     "text": [
      "\n",
      "Test set: Avg. loss: 0.0007, Accuracy: 9863/10000 (99%)\n",
      "\n"
     ]
    },
    {
     "name": "stderr",
     "output_type": "stream",
     "text": [
      "loss=0.0020: 100%|██████████| 938/938 [00:16<00:00, 56.47it/s]\n"
     ]
    },
    {
     "name": "stdout",
     "output_type": "stream",
     "text": [
      "\n",
      "Test set: Avg. loss: 0.0006, Accuracy: 9875/10000 (99%)\n",
      "\n"
     ]
    },
    {
     "name": "stderr",
     "output_type": "stream",
     "text": [
      "loss=0.0010: 100%|██████████| 938/938 [00:18<00:00, 52.04it/s]\n"
     ]
    },
    {
     "name": "stdout",
     "output_type": "stream",
     "text": [
      "\n",
      "Test set: Avg. loss: 0.0007, Accuracy: 9850/10000 (98%)\n",
      "\n"
     ]
    },
    {
     "name": "stderr",
     "output_type": "stream",
     "text": [
      "loss=0.0150: 100%|██████████| 938/938 [00:20<00:00, 46.14it/s]\n"
     ]
    },
    {
     "name": "stdout",
     "output_type": "stream",
     "text": [
      "\n",
      "Test set: Avg. loss: 0.0014, Accuracy: 9724/10000 (97%)\n",
      "\n"
     ]
    },
    {
     "name": "stderr",
     "output_type": "stream",
     "text": [
      "loss=0.0088: 100%|██████████| 938/938 [00:19<00:00, 46.96it/s]\n"
     ]
    },
    {
     "name": "stdout",
     "output_type": "stream",
     "text": [
      "\n",
      "Test set: Avg. loss: 0.0009, Accuracy: 9824/10000 (98%)\n",
      "\n"
     ]
    },
    {
     "name": "stderr",
     "output_type": "stream",
     "text": [
      "loss=0.0044: 100%|██████████| 938/938 [00:18<00:00, 49.98it/s]\n"
     ]
    },
    {
     "name": "stdout",
     "output_type": "stream",
     "text": [
      "\n",
      "Test set: Avg. loss: 0.0007, Accuracy: 9863/10000 (99%)\n",
      "\n"
     ]
    },
    {
     "name": "stderr",
     "output_type": "stream",
     "text": [
      "loss=0.0020: 100%|██████████| 938/938 [00:18<00:00, 50.33it/s]\n"
     ]
    },
    {
     "name": "stdout",
     "output_type": "stream",
     "text": [
      "\n",
      "Test set: Avg. loss: 0.0006, Accuracy: 9875/10000 (99%)\n",
      "\n"
     ]
    },
    {
     "name": "stderr",
     "output_type": "stream",
     "text": [
      "loss=0.0010: 100%|██████████| 938/938 [00:19<00:00, 48.31it/s]\n"
     ]
    },
    {
     "name": "stdout",
     "output_type": "stream",
     "text": [
      "\n",
      "Test set: Avg. loss: 0.0007, Accuracy: 9850/10000 (98%)\n",
      "\n"
     ]
    }
   ],
   "source": [
    "# testing with different batch sizes\n",
    "results = {}\n",
    "for batch_size in [32, 64, 128]:\n",
    "    classifier = Classifier()\n",
    "    classifier.prepare_data(shuffle=False, batch_size=batch_size)\n",
    "    classifier.create_model(model=LeNet(), optimizer=torch.optim.Adam, criterion=nn.CrossEntropyLoss)\n",
    "    train_accuracy, train_loss, test_accuracy, test_loss = classifier.train_model(n_epochs=5)\n",
    "    results[str(batch_size)] = {'train_accuracy': train_accuracy, 'train_loss': train_loss, 'test_accuracy': test_accuracy, 'test_loss': test_loss}"
   ]
  },
  {
   "cell_type": "code",
   "execution_count": 18,
   "metadata": {},
   "outputs": [
    {
     "data": {
      "image/png": "[encoded data removed]",
      "text/plain": [
       "<Figure size 1000x1000 with 4 Axes>"
      ]
     },
     "metadata": {},
     "output_type": "display_data"
    }
   ],
   "source": [
    "# plotting the results from the batch size\n",
    "fig, axs = plt.subplots(2, 2, figsize=(10, 10))\n",
    "# plotting the train accuracy\n",
    "axs[0, 0].plot(list(results.keys()), [results[batch_size]['train_accuracy'] for batch_size in results.keys()])\n",
    "axs[0, 0].set_title('Train Accuracy')\n",
    "# plotting the train loss\n",
    "axs[0, 1].plot(list(results.keys()), [results[batch_size]['train_loss'] for batch_size in results.keys()])\n",
    "axs[0, 1].set_title('Train Loss')\n",
    "# plotting the test accuracy\n",
    "axs[1, 0].plot(list(results.keys()), [results[batch_size]['test_accuracy'] for batch_size in results.keys()])\n",
    "axs[1, 0].set_title('Test Accuracy')\n",
    "# plotting the test loss\n",
    "axs[1, 1].plot(list(results.keys()), [results[batch_size]['test_loss'] for batch_size in results.keys()])\n",
    "axs[1, 1].set_title('Test Loss')\n",
    "plt.show()"
   ]
  },
  {
   "cell_type": "markdown",
   "metadata": {},
   "source": [
    "#### Influence of Optimizer"
   ]
  },
  {
   "cell_type": "code",
   "execution_count": 19,
   "metadata": {},
   "outputs": [
    {
     "name": "stderr",
     "output_type": "stream",
     "text": [
      "loss=0.0150: 100%|██████████| 938/938 [00:19<00:00, 48.57it/s]\n"
     ]
    },
    {
     "name": "stdout",
     "output_type": "stream",
     "text": [
      "\n",
      "Test set: Avg. loss: 0.0014, Accuracy: 9724/10000 (97%)\n",
      "\n"
     ]
    },
    {
     "name": "stderr",
     "output_type": "stream",
     "text": [
      "loss=0.0088: 100%|██████████| 938/938 [00:18<00:00, 50.69it/s]\n"
     ]
    },
    {
     "name": "stdout",
     "output_type": "stream",
     "text": [
      "\n",
      "Test set: Avg. loss: 0.0009, Accuracy: 9824/10000 (98%)\n",
      "\n"
     ]
    },
    {
     "name": "stderr",
     "output_type": "stream",
     "text": [
      "loss=0.0044: 100%|██████████| 938/938 [00:18<00:00, 49.65it/s]\n"
     ]
    },
    {
     "name": "stdout",
     "output_type": "stream",
     "text": [
      "\n",
      "Test set: Avg. loss: 0.0007, Accuracy: 9863/10000 (99%)\n",
      "\n"
     ]
    },
    {
     "name": "stderr",
     "output_type": "stream",
     "text": [
      "loss=0.0020: 100%|██████████| 938/938 [00:19<00:00, 48.66it/s]\n"
     ]
    },
    {
     "name": "stdout",
     "output_type": "stream",
     "text": [
      "\n",
      "Test set: Avg. loss: 0.0006, Accuracy: 9875/10000 (99%)\n",
      "\n"
     ]
    },
    {
     "name": "stderr",
     "output_type": "stream",
     "text": [
      "loss=0.0010: 100%|██████████| 938/938 [00:19<00:00, 48.86it/s]\n"
     ]
    },
    {
     "name": "stdout",
     "output_type": "stream",
     "text": [
      "\n",
      "Test set: Avg. loss: 0.0007, Accuracy: 9850/10000 (98%)\n",
      "\n"
     ]
    },
    {
     "name": "stderr",
     "output_type": "stream",
     "text": [
      "loss=0.0205: 100%|██████████| 938/938 [00:17<00:00, 53.02it/s]\n"
     ]
    },
    {
     "name": "stdout",
     "output_type": "stream",
     "text": [
      "\n",
      "Test set: Avg. loss: 0.0015, Accuracy: 9684/10000 (97%)\n",
      "\n"
     ]
    },
    {
     "name": "stderr",
     "output_type": "stream",
     "text": [
      "loss=0.0138: 100%|██████████| 938/938 [00:18<00:00, 50.68it/s]\n"
     ]
    },
    {
     "name": "stdout",
     "output_type": "stream",
     "text": [
      "\n",
      "Test set: Avg. loss: 0.0010, Accuracy: 9788/10000 (98%)\n",
      "\n"
     ]
    },
    {
     "name": "stderr",
     "output_type": "stream",
     "text": [
      "loss=0.0105: 100%|██████████| 938/938 [00:17<00:00, 52.57it/s]\n"
     ]
    },
    {
     "name": "stdout",
     "output_type": "stream",
     "text": [
      "\n",
      "Test set: Avg. loss: 0.0007, Accuracy: 9851/10000 (99%)\n",
      "\n"
     ]
    },
    {
     "name": "stderr",
     "output_type": "stream",
     "text": [
      "loss=0.0065: 100%|██████████| 938/938 [00:17<00:00, 52.93it/s]\n"
     ]
    },
    {
     "name": "stdout",
     "output_type": "stream",
     "text": [
      "\n",
      "Test set: Avg. loss: 0.0008, Accuracy: 9837/10000 (98%)\n",
      "\n"
     ]
    },
    {
     "name": "stderr",
     "output_type": "stream",
     "text": [
      "loss=0.0057: 100%|██████████| 938/938 [00:20<00:00, 46.82it/s]\n"
     ]
    },
    {
     "name": "stdout",
     "output_type": "stream",
     "text": [
      "\n",
      "Test set: Avg. loss: 0.0007, Accuracy: 9837/10000 (98%)\n",
      "\n"
     ]
    }
   ],
   "source": [
    "# testing with different optimizers\n",
    "results = {}\n",
    "for optimizer in [[torch.optim.Adam, 0.001], [torch.optim.SGD, 0.1]]:\n",
    "    classifier = Classifier()\n",
    "    classifier.prepare_data(shuffle=False)\n",
    "    classifier.create_model(model=LeNet(), optimizer=optimizer[0], criterion=nn.CrossEntropyLoss, lr=optimizer[1])\n",
    "    train_accuracy, train_loss, test_accuracy, test_loss = classifier.train_model(n_epochs=5)\n",
    "    results[str(optimizer[0].__name__)] = {'train_accuracy': train_accuracy, 'train_loss': train_loss, 'test_accuracy': test_accuracy, 'test_loss': test_loss}"
   ]
  },
  {
   "cell_type": "code",
   "execution_count": 21,
   "metadata": {},
   "outputs": [
    {
     "data": {
      "image/png": "[encoded data removed]",
      "text/plain": [
       "<Figure size 1000x1000 with 4 Axes>"
      ]
     },
     "metadata": {},
     "output_type": "display_data"
    }
   ],
   "source": [
    "# plotting the results from the optimizers\n",
    "fig, axs = plt.subplots(2, 2, figsize=(10, 10))\n",
    "# plotting the train accuracy\n",
    "axs[0, 0].plot(list(results.keys()), [results[optimizer]['train_accuracy'] for optimizer in results.keys()])\n",
    "axs[0, 0].set_title('Train Accuracy')\n",
    "# plotting the train loss\n",
    "axs[0, 1].plot(list(results.keys()), [results[optimizer]['train_loss'] for optimizer in results.keys()])\n",
    "axs[0, 1].set_title('Train Loss')\n",
    "# plotting the test accuracy\n",
    "axs[1, 0].plot(list(results.keys()), [results[optimizer]['test_accuracy'] for optimizer in results.keys()])\n",
    "axs[1, 0].set_title('Test Accuracy')\n",
    "# plotting the test loss\n",
    "axs[1, 1].plot(list(results.keys()), [results[optimizer]['test_loss'] for optimizer in results.keys()])\n",
    "axs[1, 1].set_title('Test Loss')\n",
    "plt.show()"
   ]
  },
  {
   "cell_type": "markdown",
   "metadata": {},
   "source": [
    "#### Observations"
   ]
  },
  {
   "cell_type": "markdown",
   "metadata": {},
   "source": [
    "- Learning Rate\n",
    "    - The learning rate is a hyperparameter that controls how much we are adjusting the weights of our network with respect to the loss gradient. The learning rate is a critical hyperparameter that can affect the performance of the model. A learning rate that is too small may result in a model that takes too long to train, whereas a learning rate that is too large may result in a model that learns too quickly and does not converge. The learning rate is a hyperparameter that can be tuned to improve the performance of the model.\n",
    "    - In our case, we have only tested changing the learning rates of the Adam optimizer, which seems to perform best for a learning rate of 0.001. The model seems to perform poorly for learning rates of 0.0001 and 0.1. This is because the learning rate of 0.0001 is too small, and the model takes too long to train, whereas the learning rate of 0.1 is too large, and the model does not converge.\n",
    "    - SGD is known to perform well with a learning rate of 0.1, comparable to Adam.\n",
    "\n",
    "- Batch Size\n",
    "    - There was no differnece at all seen in the performance of the model with different batch sizes. This is because the dataset is small and the model is simple, and the batch size does not affect the performance of the model. However, in general, a larger batch size can lead to faster training times, but it can also lead to overfitting. A smaller batch size can lead to slower training times, but it can also lead to better generalization.\n",
    "    - Also the freezing of the random seed might have caused the same results for different batch sizes.\n",
    "\n",
    "- Optimizer\n",
    "    - There is no conclusive evidence to suggest that Adam performs better than SGD. However, Adam is known to perform better than SGD in most cases, and it is also known to be more robust to the choice of learning rate. In our case, Adam seems to perform better than SGD, but the difference is not significant. Yet, SGD has a better result on the test set, making any conclusion difficult."
   ]
  },
  {
   "cell_type": "markdown",
   "metadata": {},
   "source": [
    "### 2.3"
   ]
  },
  {
   "cell_type": "markdown",
   "metadata": {},
   "source": [
    "The best results obtained in the SIFT-BoVW-SVM method was an accuracy of 75%, while the CNN model easily get an accuracy of 99% on various parameters. The CNN model is much better than the SIFT-BoVW-SVM model.\n",
    "\n",
    "Several disparities exist between the two methodologies:\n",
    "\n",
    "- In CNN, features are extracted in convolutional layers where kernels learn optimal values for feature extraction during training. Conversely, the classical ML model in question 1 employs SIFT for feature extraction, which lacks a learning component. Nevertheless, the first model utilizes k-means to extract the desired number of features for Bag of Visual Words, involving a degree of learning.\n",
    "\n",
    "- The classical model's final classification employs an SVM, a linear classifier less effective for non-linearly separable data, which is often the case. This limitation can be mitigated using kernel methods, as demonstrated. In contrast, CNN is highly effective for non-linearly separable data, yielding significantly higher test accuracies.\n",
    "\n",
    "Along with the above differnces in the methodology, the CNN method is much faster as compared to the clustering step involved in the SVM method making it more efficient."
   ]
  },
  {
   "cell_type": "markdown",
   "metadata": {},
   "source": [
    "### 2.4"
   ]
  },
  {
   "cell_type": "markdown",
   "metadata": {},
   "source": [
    "#### New Model"
   ]
  },
  {
   "cell_type": "code",
   "execution_count": 51,
   "metadata": {},
   "outputs": [],
   "source": [
    "class CustomLeNet(nn.Module):\n",
    "    def __init__(self):\n",
    "        super(CustomLeNet, self).__init__()\n",
    "        self.conv1 = nn.Conv2d(1, 6, kernel_size=5, stride=1, padding=2)\n",
    "        self.conv2 = nn.Conv2d(6, 16, kernel_size=5, stride=1, padding=2)\n",
    "        self.conv3 = nn.Conv2d(16, 32, kernel_size=3, stride=1, padding=2)\n",
    "        self.conv4 = nn.Conv2d(32, 64, kernel_size=3, stride=1, padding=2)\n",
    "        self.fc1 = nn.Linear(64*3*3, 120)\n",
    "        self.fc2 = nn.Linear(120, 84)\n",
    "        self.fc3 = nn.Linear(84, 10)\n",
    "        self.relu = nn.ReLU()\n",
    "        self.pool = nn.MaxPool2d(kernel_size=2, stride=2)\n",
    "\n",
    "    def forward(self, x):\n",
    "        x = self.relu(self.conv1(x))\n",
    "        x = self.pool(x)\n",
    "        x = self.relu(self.conv2(x))\n",
    "        x = self.pool(x)\n",
    "        x = self.relu(self.conv3(x))\n",
    "        x = self.pool(x)\n",
    "        x = self.relu(self.conv4(x))\n",
    "        x = self.pool(x)\n",
    "        x = x.view(-1, 64*3*3)\n",
    "        x = self.relu(self.fc1(x))\n",
    "        x = self.relu(self.fc2(x))\n",
    "        x = self.fc3(x)\n",
    "        return x"
   ]
  },
  {
   "cell_type": "markdown",
   "metadata": {},
   "source": [
    "#### Training"
   ]
  },
  {
   "cell_type": "code",
   "execution_count": 52,
   "metadata": {},
   "outputs": [
    {
     "name": "stderr",
     "output_type": "stream",
     "text": [
      "loss=2.3190:   0%|          | 0/938 [00:00<?, ?it/s]"
     ]
    },
    {
     "name": "stderr",
     "output_type": "stream",
     "text": [
      "loss=0.0470: 100%|██████████| 938/938 [00:22<00:00, 41.75it/s]\n"
     ]
    },
    {
     "name": "stdout",
     "output_type": "stream",
     "text": [
      "\n",
      "Test set: Avg. loss: 0.0018, Accuracy: 9649/10000 (96%)\n",
      "\n"
     ]
    },
    {
     "name": "stderr",
     "output_type": "stream",
     "text": [
      "loss=0.0088: 100%|██████████| 938/938 [00:24<00:00, 38.31it/s]\n"
     ]
    },
    {
     "name": "stdout",
     "output_type": "stream",
     "text": [
      "\n",
      "Test set: Avg. loss: 0.0012, Accuracy: 9776/10000 (98%)\n",
      "\n"
     ]
    },
    {
     "name": "stderr",
     "output_type": "stream",
     "text": [
      "loss=0.0016: 100%|██████████| 938/938 [00:22<00:00, 40.88it/s]\n"
     ]
    },
    {
     "name": "stdout",
     "output_type": "stream",
     "text": [
      "\n",
      "Test set: Avg. loss: 0.0007, Accuracy: 9850/10000 (98%)\n",
      "\n"
     ]
    },
    {
     "name": "stderr",
     "output_type": "stream",
     "text": [
      "loss=0.0006: 100%|██████████| 938/938 [00:22<00:00, 41.77it/s]\n"
     ]
    },
    {
     "name": "stdout",
     "output_type": "stream",
     "text": [
      "\n",
      "Test set: Avg. loss: 0.0006, Accuracy: 9881/10000 (99%)\n",
      "\n"
     ]
    },
    {
     "name": "stderr",
     "output_type": "stream",
     "text": [
      "loss=0.0012: 100%|██████████| 938/938 [00:24<00:00, 38.09it/s]\n"
     ]
    },
    {
     "name": "stdout",
     "output_type": "stream",
     "text": [
      "\n",
      "Test set: Avg. loss: 0.0007, Accuracy: 9867/10000 (99%)\n",
      "\n"
     ]
    },
    {
     "data": {
      "text/plain": [
       "(0.9883666666666666,\n",
       " 0.0005929304863958047,\n",
       " tensor(0.9867),\n",
       " 0.0006693860162158671)"
      ]
     },
     "execution_count": 52,
     "metadata": {},
     "output_type": "execute_result"
    }
   ],
   "source": [
    "classifier = Classifier()\n",
    "classifier.prepare_data(shuffle=False)\n",
    "classifier.create_model(model=CustomLeNet(), optimizer=torch.optim.Adam, criterion=nn.CrossEntropyLoss)\n",
    "classifier.train_model(n_epochs=5)"
   ]
  },
  {
   "cell_type": "markdown",
   "metadata": {},
   "source": [
    "<!-- how does the performance of LeNet change if we double the numer of convolution layers -->\n",
    "- On paper, the performance of LeNet will improve if we double the number of convolution layers. This is because the model will be able to learn more complex features from the input images. The number of parameters will also increase, which will help the model to learn more complex patterns in the data.\n",
    "- But also the complexity of the model will increase, which will make the model more prone to overfitting. So, we need to be careful about the number of parameters in the model.\n",
    "- The training here has shown that there is no significant and definite difference when compared to similar parameters training on the regular LeNet model. This might be because the model had already given a very high performance on the MNIST dataset and the increase in the number of convolution layers did not have a significant impact on the performance of the model."
   ]
  },
  {
   "cell_type": "markdown",
   "metadata": {},
   "source": [
    "### 2.5"
   ]
  },
  {
   "cell_type": "code",
   "execution_count": 58,
   "metadata": {},
   "outputs": [
    {
     "name": "stderr",
     "output_type": "stream",
     "text": [
      "loss=2.3462: 100%|██████████| 10/10 [00:00<00:00, 74.64it/s]\n"
     ]
    },
    {
     "name": "stdout",
     "output_type": "stream",
     "text": [
      "\n",
      "Test set: Avg. loss: 0.0350, Accuracy: 3620/10000 (36%)\n",
      "\n"
     ]
    },
    {
     "name": "stderr",
     "output_type": "stream",
     "text": [
      "loss=2.2451: 100%|██████████| 10/10 [00:00<00:00, 107.68it/s]\n"
     ]
    },
    {
     "name": "stdout",
     "output_type": "stream",
     "text": [
      "\n",
      "Test set: Avg. loss: 0.0315, Accuracy: 4562/10000 (46%)\n",
      "\n"
     ]
    },
    {
     "name": "stderr",
     "output_type": "stream",
     "text": [
      "loss=2.0458: 100%|██████████| 10/10 [00:00<00:00, 107.10it/s]\n"
     ]
    },
    {
     "name": "stdout",
     "output_type": "stream",
     "text": [
      "\n",
      "Test set: Avg. loss: 0.0241, Accuracy: 6411/10000 (64%)\n",
      "\n"
     ]
    },
    {
     "name": "stderr",
     "output_type": "stream",
     "text": [
      "loss=1.5584: 100%|██████████| 10/10 [00:00<00:00, 113.76it/s]\n"
     ]
    },
    {
     "name": "stdout",
     "output_type": "stream",
     "text": [
      "\n",
      "Test set: Avg. loss: 0.0168, Accuracy: 7148/10000 (71%)\n",
      "\n"
     ]
    },
    {
     "name": "stderr",
     "output_type": "stream",
     "text": [
      "loss=1.1704: 100%|██████████| 10/10 [00:00<00:00, 34.21it/s]\n"
     ]
    },
    {
     "name": "stdout",
     "output_type": "stream",
     "text": [
      "\n",
      "Test set: Avg. loss: 0.0127, Accuracy: 7570/10000 (76%)\n",
      "\n"
     ]
    },
    {
     "name": "stderr",
     "output_type": "stream",
     "text": [
      "loss=1.6992: 100%|██████████| 29/29 [00:00<00:00, 128.03it/s]\n"
     ]
    },
    {
     "name": "stdout",
     "output_type": "stream",
     "text": [
      "\n",
      "Test set: Avg. loss: 0.0290, Accuracy: 3627/10000 (36%)\n",
      "\n"
     ]
    },
    {
     "name": "stderr",
     "output_type": "stream",
     "text": [
      "loss=0.6649: 100%|██████████| 29/29 [00:00<00:00, 126.81it/s]\n"
     ]
    },
    {
     "name": "stdout",
     "output_type": "stream",
     "text": [
      "\n",
      "Test set: Avg. loss: 0.0172, Accuracy: 6007/10000 (60%)\n",
      "\n"
     ]
    },
    {
     "name": "stderr",
     "output_type": "stream",
     "text": [
      "loss=0.4880: 100%|██████████| 29/29 [00:00<00:00, 124.45it/s]\n"
     ]
    },
    {
     "name": "stdout",
     "output_type": "stream",
     "text": [
      "\n",
      "Test set: Avg. loss: 0.0104, Accuracy: 7845/10000 (78%)\n",
      "\n"
     ]
    },
    {
     "name": "stderr",
     "output_type": "stream",
     "text": [
      "loss=0.1839: 100%|██████████| 29/29 [00:00<00:00, 120.67it/s]\n"
     ]
    },
    {
     "name": "stdout",
     "output_type": "stream",
     "text": [
      "\n",
      "Test set: Avg. loss: 0.0089, Accuracy: 8196/10000 (82%)\n",
      "\n"
     ]
    },
    {
     "name": "stderr",
     "output_type": "stream",
     "text": [
      "loss=0.0909: 100%|██████████| 29/29 [00:00<00:00, 109.73it/s]\n"
     ]
    },
    {
     "name": "stdout",
     "output_type": "stream",
     "text": [
      "\n",
      "Test set: Avg. loss: 0.0070, Accuracy: 8639/10000 (86%)\n",
      "\n"
     ]
    },
    {
     "name": "stderr",
     "output_type": "stream",
     "text": [
      "loss=0.3616: 100%|██████████| 94/94 [00:00<00:00, 105.50it/s]\n"
     ]
    },
    {
     "name": "stdout",
     "output_type": "stream",
     "text": [
      "\n",
      "Test set: Avg. loss: 0.0157, Accuracy: 6585/10000 (66%)\n",
      "\n"
     ]
    },
    {
     "name": "stderr",
     "output_type": "stream",
     "text": [
      "loss=0.1974: 100%|██████████| 94/94 [00:00<00:00, 113.41it/s]\n"
     ]
    },
    {
     "name": "stdout",
     "output_type": "stream",
     "text": [
      "\n",
      "Test set: Avg. loss: 0.0060, Accuracy: 8748/10000 (87%)\n",
      "\n"
     ]
    },
    {
     "name": "stderr",
     "output_type": "stream",
     "text": [
      "loss=0.2567: 100%|██████████| 94/94 [00:00<00:00, 106.41it/s]\n"
     ]
    },
    {
     "name": "stdout",
     "output_type": "stream",
     "text": [
      "\n",
      "Test set: Avg. loss: 0.0045, Accuracy: 9044/10000 (90%)\n",
      "\n"
     ]
    },
    {
     "name": "stderr",
     "output_type": "stream",
     "text": [
      "loss=0.2062: 100%|██████████| 94/94 [00:00<00:00, 120.65it/s]\n"
     ]
    },
    {
     "name": "stdout",
     "output_type": "stream",
     "text": [
      "\n",
      "Test set: Avg. loss: 0.0041, Accuracy: 9132/10000 (91%)\n",
      "\n"
     ]
    },
    {
     "name": "stderr",
     "output_type": "stream",
     "text": [
      "loss=0.1554: 100%|██████████| 94/94 [00:00<00:00, 114.66it/s]\n"
     ]
    },
    {
     "name": "stdout",
     "output_type": "stream",
     "text": [
      "\n",
      "Test set: Avg. loss: 0.0041, Accuracy: 9141/10000 (91%)\n",
      "\n"
     ]
    },
    {
     "name": "stderr",
     "output_type": "stream",
     "text": [
      "loss=0.3549: 100%|██████████| 282/282 [00:02<00:00, 114.22it/s]\n"
     ]
    },
    {
     "name": "stdout",
     "output_type": "stream",
     "text": [
      "\n",
      "Test set: Avg. loss: 0.0126, Accuracy: 7286/10000 (73%)\n",
      "\n"
     ]
    },
    {
     "name": "stderr",
     "output_type": "stream",
     "text": [
      "loss=0.0838: 100%|██████████| 282/282 [00:02<00:00, 99.26it/s] \n"
     ]
    },
    {
     "name": "stdout",
     "output_type": "stream",
     "text": [
      "\n",
      "Test set: Avg. loss: 0.0043, Accuracy: 9123/10000 (91%)\n",
      "\n"
     ]
    },
    {
     "name": "stderr",
     "output_type": "stream",
     "text": [
      "loss=0.0164: 100%|██████████| 282/282 [00:02<00:00, 100.02it/s]\n"
     ]
    },
    {
     "name": "stdout",
     "output_type": "stream",
     "text": [
      "\n",
      "Test set: Avg. loss: 0.0031, Accuracy: 9370/10000 (94%)\n",
      "\n"
     ]
    },
    {
     "name": "stderr",
     "output_type": "stream",
     "text": [
      "loss=0.0052: 100%|██████████| 282/282 [00:02<00:00, 104.41it/s]\n"
     ]
    },
    {
     "name": "stdout",
     "output_type": "stream",
     "text": [
      "\n",
      "Test set: Avg. loss: 0.0029, Accuracy: 9414/10000 (94%)\n",
      "\n"
     ]
    },
    {
     "name": "stderr",
     "output_type": "stream",
     "text": [
      "loss=0.0010: 100%|██████████| 282/282 [00:02<00:00, 108.15it/s]\n"
     ]
    },
    {
     "name": "stdout",
     "output_type": "stream",
     "text": [
      "\n",
      "Test set: Avg. loss: 0.0023, Accuracy: 9539/10000 (95%)\n",
      "\n"
     ]
    },
    {
     "name": "stderr",
     "output_type": "stream",
     "text": [
      "loss=0.0150: 100%|██████████| 938/938 [00:13<00:00, 71.65it/s]\n"
     ]
    },
    {
     "name": "stdout",
     "output_type": "stream",
     "text": [
      "\n",
      "Test set: Avg. loss: 0.0014, Accuracy: 9724/10000 (97%)\n",
      "\n"
     ]
    },
    {
     "name": "stderr",
     "output_type": "stream",
     "text": [
      "loss=0.0088: 100%|██████████| 938/938 [00:13<00:00, 70.53it/s]\n"
     ]
    },
    {
     "name": "stdout",
     "output_type": "stream",
     "text": [
      "\n",
      "Test set: Avg. loss: 0.0009, Accuracy: 9824/10000 (98%)\n",
      "\n"
     ]
    },
    {
     "name": "stderr",
     "output_type": "stream",
     "text": [
      "loss=0.0044: 100%|██████████| 938/938 [00:13<00:00, 69.90it/s]\n"
     ]
    },
    {
     "name": "stdout",
     "output_type": "stream",
     "text": [
      "\n",
      "Test set: Avg. loss: 0.0007, Accuracy: 9863/10000 (99%)\n",
      "\n"
     ]
    },
    {
     "name": "stderr",
     "output_type": "stream",
     "text": [
      "loss=0.0020: 100%|██████████| 938/938 [00:13<00:00, 69.05it/s]\n"
     ]
    },
    {
     "name": "stdout",
     "output_type": "stream",
     "text": [
      "\n",
      "Test set: Avg. loss: 0.0006, Accuracy: 9875/10000 (99%)\n",
      "\n"
     ]
    },
    {
     "name": "stderr",
     "output_type": "stream",
     "text": [
      "loss=0.0010: 100%|██████████| 938/938 [00:14<00:00, 62.86it/s]\n"
     ]
    },
    {
     "name": "stdout",
     "output_type": "stream",
     "text": [
      "\n",
      "Test set: Avg. loss: 0.0007, Accuracy: 9850/10000 (98%)\n",
      "\n"
     ]
    }
   ],
   "source": [
    "# changing the train set size\n",
    "results = {}\n",
    "for train_size in [600, 1800, 6000, 18000, 60000]:\n",
    "    classifier = Classifier()\n",
    "    classifier.prepare_data(shuffle=False, train_size=train_size)\n",
    "    classifier.create_model(model=LeNet(), optimizer=torch.optim.Adam, criterion=nn.CrossEntropyLoss)\n",
    "    train_accuracy, train_loss, test_accuracy, test_loss = classifier.train_model(n_epochs=5)\n",
    "    results[str(train_size)] = {'train_accuracy': train_accuracy, 'train_loss': train_loss, 'test_accuracy': test_accuracy, 'test_loss': test_loss}"
   ]
  },
  {
   "cell_type": "code",
   "execution_count": 59,
   "metadata": {},
   "outputs": [
    {
     "data": {
      "image/png": "[encoded data removed]",
      "text/plain": [
       "<Figure size 1000x1000 with 4 Axes>"
      ]
     },
     "metadata": {},
     "output_type": "display_data"
    }
   ],
   "source": [
    "# plotting the results from the train set size\n",
    "fig, axs = plt.subplots(2, 2, figsize=(10, 10))\n",
    "# plotting the train accuracy\n",
    "axs[0, 0].plot(list(results.keys()), [results[train_size]['train_accuracy'] for train_size in results.keys()])\n",
    "axs[0, 0].set_title('Train Accuracy')\n",
    "# plotting the train loss\n",
    "axs[0, 1].plot(list(results.keys()), [results[train_size]['train_loss'] for train_size in results.keys()])\n",
    "axs[0, 1].set_title('Train Loss')\n",
    "# plotting the test accuracy\n",
    "axs[1, 0].plot(list(results.keys()), [results[train_size]['test_accuracy'] for train_size in results.keys()])\n",
    "axs[1, 0].set_title('Test Accuracy')\n",
    "# plotting the test loss\n",
    "axs[1, 1].plot(list(results.keys()), [results[train_size]['test_loss'] for train_size in results.keys()])\n",
    "axs[1, 1].set_title('Test Loss')\n",
    "plt.show()"
   ]
  },
  {
   "cell_type": "markdown",
   "metadata": {},
   "source": [
    "- Increasing the number of images in the training set lets the model learn more about the data and helps the model to generalize better. This is because the model has more data to learn from, and it can learn more complex patterns in the data. This can help the model to perform better on the test set.\n",
    "- A larger training set alse means on equal number of iterations, the larger dataset would generalise much better and overfitting is prevented for longer."
   ]
  },
  {
   "cell_type": "markdown",
   "metadata": {},
   "source": [
    "### 2.6"
   ]
  },
  {
   "cell_type": "code",
   "execution_count": 60,
   "metadata": {},
   "outputs": [
    {
     "name": "stderr",
     "output_type": "stream",
     "text": [
      "loss=0.8358: 100%|██████████| 94/94 [00:06<00:00, 14.21it/s]\n"
     ]
    },
    {
     "name": "stdout",
     "output_type": "stream",
     "text": [
      "\n",
      "Test set: Avg. loss: 0.0171, Accuracy: 6065/10000 (61%)\n",
      "\n"
     ]
    },
    {
     "name": "stderr",
     "output_type": "stream",
     "text": [
      "loss=0.5585: 100%|██████████| 94/94 [00:06<00:00, 14.68it/s]\n"
     ]
    },
    {
     "name": "stdout",
     "output_type": "stream",
     "text": [
      "\n",
      "Test set: Avg. loss: 0.0092, Accuracy: 8070/10000 (81%)\n",
      "\n"
     ]
    },
    {
     "name": "stderr",
     "output_type": "stream",
     "text": [
      "loss=0.4646: 100%|██████████| 94/94 [00:06<00:00, 14.71it/s]\n"
     ]
    },
    {
     "name": "stdout",
     "output_type": "stream",
     "text": [
      "\n",
      "Test set: Avg. loss: 0.0069, Accuracy: 8595/10000 (86%)\n",
      "\n"
     ]
    },
    {
     "name": "stderr",
     "output_type": "stream",
     "text": [
      "loss=0.2102: 100%|██████████| 94/94 [00:06<00:00, 14.72it/s]\n"
     ]
    },
    {
     "name": "stdout",
     "output_type": "stream",
     "text": [
      "\n",
      "Test set: Avg. loss: 0.0062, Accuracy: 8729/10000 (87%)\n",
      "\n"
     ]
    },
    {
     "name": "stderr",
     "output_type": "stream",
     "text": [
      "loss=0.1311: 100%|██████████| 94/94 [00:07<00:00, 13.09it/s]\n"
     ]
    },
    {
     "name": "stdout",
     "output_type": "stream",
     "text": [
      "\n",
      "Test set: Avg. loss: 0.0048, Accuracy: 9017/10000 (90%)\n",
      "\n"
     ]
    },
    {
     "name": "stderr",
     "output_type": "stream",
     "text": [
      "loss=0.0605: 100%|██████████| 938/938 [01:09<00:00, 13.51it/s]\n"
     ]
    },
    {
     "name": "stdout",
     "output_type": "stream",
     "text": [
      "\n",
      "Test set: Avg. loss: 0.0032, Accuracy: 9388/10000 (94%)\n",
      "\n"
     ]
    },
    {
     "name": "stderr",
     "output_type": "stream",
     "text": [
      "loss=0.1052: 100%|██████████| 938/938 [01:25<00:00, 10.94it/s]\n"
     ]
    },
    {
     "name": "stdout",
     "output_type": "stream",
     "text": [
      "\n",
      "Test set: Avg. loss: 0.0027, Accuracy: 9471/10000 (95%)\n",
      "\n"
     ]
    },
    {
     "name": "stderr",
     "output_type": "stream",
     "text": [
      "loss=0.0287: 100%|██████████| 938/938 [01:22<00:00, 11.38it/s]\n"
     ]
    },
    {
     "name": "stdout",
     "output_type": "stream",
     "text": [
      "\n",
      "Test set: Avg. loss: 0.0020, Accuracy: 9599/10000 (96%)\n",
      "\n"
     ]
    },
    {
     "name": "stderr",
     "output_type": "stream",
     "text": [
      "loss=0.0521: 100%|██████████| 938/938 [01:25<00:00, 11.00it/s]\n"
     ]
    },
    {
     "name": "stdout",
     "output_type": "stream",
     "text": [
      "\n",
      "Test set: Avg. loss: 0.0020, Accuracy: 9594/10000 (96%)\n",
      "\n"
     ]
    },
    {
     "name": "stderr",
     "output_type": "stream",
     "text": [
      "loss=0.0535: 100%|██████████| 938/938 [01:19<00:00, 11.79it/s]\n"
     ]
    },
    {
     "name": "stdout",
     "output_type": "stream",
     "text": [
      "\n",
      "Test set: Avg. loss: 0.0018, Accuracy: 9637/10000 (96%)\n",
      "\n"
     ]
    }
   ],
   "source": [
    "# Training ViT to compare with LeNet\n",
    "results = {}\n",
    "for train_size in [6000, 60000]:\n",
    "    classifier = Classifier()\n",
    "    classifier.prepare_data(shuffle=False, train_size=train_size)\n",
    "    classifier.create_model(model=ViT((28, 28), 4, 100, 4, 2), optimizer=torch.optim.Adam, criterion=nn.CrossEntropyLoss)\n",
    "    train_accuracy, train_loss, test_accuracy, test_loss = classifier.train_model(n_epochs=5)\n",
    "    results[str(train_size)] = {'train_accuracy': train_accuracy, 'train_loss': train_loss, 'test_accuracy': test_accuracy, 'test_loss': test_loss}"
   ]
  },
  {
   "cell_type": "code",
   "execution_count": 61,
   "metadata": {},
   "outputs": [
    {
     "data": {
      "image/png": "[encoded data removed]",
      "text/plain": [
       "<Figure size 1000x1000 with 4 Axes>"
      ]
     },
     "metadata": {},
     "output_type": "display_data"
    }
   ],
   "source": [
    "# plotting the results from the train set size\n",
    "fig, axs = plt.subplots(2, 2, figsize=(10, 10))\n",
    "# plotting the train accuracy\n",
    "axs[0, 0].plot(list(results.keys()), [results[train_size]['train_accuracy'] for train_size in results.keys()])\n",
    "axs[0, 0].set_title('Train Accuracy')\n",
    "# plotting the train loss\n",
    "axs[0, 1].plot(list(results.keys()), [results[train_size]['train_loss'] for train_size in results.keys()])\n",
    "axs[0, 1].set_title('Train Loss')\n",
    "# plotting the test accuracy\n",
    "axs[1, 0].plot(list(results.keys()), [results[train_size]['test_accuracy'] for train_size in results.keys()])\n",
    "axs[1, 0].set_title('Test Accuracy')\n",
    "# plotting the test loss\n",
    "axs[1, 1].plot(list(results.keys()), [results[train_size]['test_loss'] for train_size in results.keys()])\n",
    "axs[1, 1].set_title('Test Loss')\n",
    "plt.show()"
   ]
  },
  {
   "cell_type": "markdown",
   "metadata": {},
   "source": [
    "- ViT gives very good performance on the MNIST dataset for image classification. The accuracies are decent, but compared to LeNet classification, the ViT model is not as good. This is because the ViT model is not designed for image classification, and it is not able to learn the complex patterns in the data as well as the LeNet model.\n",
    "- The parameters used for the training were the best parameters found in the previous experiments for CNN, and the best parameters for ViT might improve the case a lot for ViT. But in this setting, the ViT does not perform well as compared to the LeNet model.\n",
    "- Epochs were kept the same for both the models, and the ViT model might have needed more epochs to train and perform better. This might crucially affect the performance of the model, as ViT being a transformer model, needs more epochs to train and perform better, due to its complexity."
   ]
  }
 ],
 "metadata": {
  "kernelspec": {
   "display_name": "base",
   "language": "python",
   "name": "python3"
  },
  "language_info": {
   "codemirror_mode": {
    "name": "ipython",
    "version": 3
   },
   "file_extension": ".py",
   "mimetype": "text/x-python",
   "name": "python",
   "nbconvert_exporter": "python",
   "pygments_lexer": "ipython3",
   "version": "3.10.9"
  }
 },
 "nbformat": 4,
 "nbformat_minor": 2
}
